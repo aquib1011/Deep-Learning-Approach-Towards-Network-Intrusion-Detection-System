{
  "cells": [
    {
      "cell_type": "code",
      "execution_count": 1,
      "metadata": {
        "id": "-bDj8NmDI4in"
      },
      "outputs": [],
      "source": [
        "from __future__ import print_function\n",
        "from sklearn.model_selection import train_test_split\n",
        "import pandas as pd\n",
        "import numpy as np\n",
        "np.random.seed(1337) \n",
        "from keras.preprocessing import sequence\n",
        "from keras.utils import np_utils\n",
        "from keras.models import Sequential\n",
        "from keras.layers import Dense, Dropout, Activation, Embedding\n",
        "from keras.utils.np_utils import to_categorical\n",
        "from sklearn.metrics import (precision_score, recall_score,f1_score, accuracy_score,mean_squared_error,mean_absolute_error)\n",
        "from sklearn import metrics\n",
        "from sklearn.preprocessing import Normalizer\n",
        "import h5py\n",
        "from keras import callbacks\n",
        "from keras.callbacks import ModelCheckpoint, EarlyStopping, ReduceLROnPlateau, CSVLogger\n"
      ]
    },
    {
      "cell_type": "code",
      "execution_count": 3,
      "metadata": {
        "id": "oZ0HBaR_vYZO"
      },
      "outputs": [],
      "source": [
        "import matplotlib.pyplot as plt"
      ]
    },
    {
      "cell_type": "code",
      "execution_count": 2,
      "metadata": {
        "id": "fAHn1iQ_mU8f"
      },
      "outputs": [],
      "source": [
        "\n",
        "traindata = pd.read_csv('/DATA/Training.csv', header=None)\n",
        "testdata = pd.read_csv('/DATA/Testing.csv', header=None)\n",
        "\n",
        "\n",
        "X = traindata.iloc[:,1:42]\n",
        "Y = traindata.iloc[:,0]\n",
        "C = testdata.iloc[:,0]\n",
        "T = testdata.iloc[:,1:42]\n",
        "\n",
        "scaler = Normalizer().fit(X)\n",
        "trainX = scaler.transform(X)\n",
        "\n",
        "scaler = Normalizer().fit(T)\n",
        "testT = scaler.transform(T)\n",
        "\n",
        "y_train = np.array(Y)\n",
        "y_test = np.array(C)\n",
        "\n",
        "X_train = np.array(trainX)\n",
        "X_test = np.array(testT)"
      ]
    },
    {
      "cell_type": "code",
      "execution_count": 7,
      "metadata": {
        "id": "WHryadmDI2lA"
      },
      "outputs": [],
      "source": [
        "batch_size = 64\n",
        "\n",
        "model = Sequential()\n",
        "model.add(Dense(1024,input_dim=41,activation='relu'))  \n",
        "model.add(Dropout(0.01))\n",
        "model.add(Dense(768,activation='relu'))  \n",
        "model.add(Dropout(0.01))\n",
        "model.add(Dense(512,activation='relu'))  \n",
        "model.add(Dropout(0.01))\n",
        "model.add(Dense(256,activation='relu'))  \n",
        "model.add(Dropout(0.01))\n",
        "model.add(Dense(128,activation='relu'))  \n",
        "model.add(Dropout(0.01))\n",
        "model.add(Dense(1))\n",
        "model.add(Activation('sigmoid'))\n",
        "\n"
      ]
    },
    {
      "cell_type": "code",
      "execution_count": 6,
      "metadata": {
        "colab": {
          "base_uri": "https://localhost:8080/"
        },
        "id": "Bg0FzinoysPo",
        "outputId": "c5443127-ff1c-4dee-e8a5-e3f2fdcf377e"
      },
      "outputs": [
        {
          "name": "stdout",
          "output_type": "stream",
          "text": [
            "Model: \"sequential\"\n",
            "_________________________________________________________________\n",
            " Layer (type)                Output Shape              Param #   \n",
            "=================================================================\n",
            " dense (Dense)               (None, 1024)              43008     \n",
            "                                                                 \n",
            " dropout (Dropout)           (None, 1024)              0         \n",
            "                                                                 \n",
            " dense_1 (Dense)             (None, 768)               787200    \n",
            "                                                                 \n",
            " dropout_1 (Dropout)         (None, 768)               0         \n",
            "                                                                 \n",
            " dense_2 (Dense)             (None, 512)               393728    \n",
            "                                                                 \n",
            " dropout_2 (Dropout)         (None, 512)               0         \n",
            "                                                                 \n",
            " dense_3 (Dense)             (None, 256)               131328    \n",
            "                                                                 \n",
            " dropout_3 (Dropout)         (None, 256)               0         \n",
            "                                                                 \n",
            " dense_4 (Dense)             (None, 128)               32896     \n",
            "                                                                 \n",
            " dropout_4 (Dropout)         (None, 128)               0         \n",
            "                                                                 \n",
            " dense_5 (Dense)             (None, 1)                 129       \n",
            "                                                                 \n",
            " activation (Activation)     (None, 1)                 0         \n",
            "                                                                 \n",
            "=================================================================\n",
            "Total params: 1,388,289\n",
            "Trainable params: 1,388,289\n",
            "Non-trainable params: 0\n",
            "_________________________________________________________________\n"
          ]
        }
      ],
      "source": [
        "model.summary()"
      ]
    },
    {
      "cell_type": "code",
      "execution_count": 10,
      "metadata": {
        "colab": {
          "base_uri": "https://localhost:8080/"
        },
        "id": "OEOKnSmJIzjT",
        "outputId": "367ebb55-7330-45db-b3bc-ca33d63aab7f"
      },
      "outputs": [
        {
          "name": "stdout",
          "output_type": "stream",
          "text": [
            "Epoch 1/20\n",
            "7712/7720 [============================>.] - ETA: 0s - loss: 0.0041 - accuracy: 0.9990\n",
            "Epoch 1: loss improved from inf to 0.00413, saving model to kddresults/dnn5layer/checkpoint-01.hdf5\n",
            "7720/7720 [==============================] - 35s 4ms/step - loss: 0.0041 - accuracy: 0.9990\n",
            "Epoch 2/20\n",
            "7715/7720 [============================>.] - ETA: 0s - loss: 0.0036 - accuracy: 0.9990\n",
            "Epoch 2: loss improved from 0.00413 to 0.00363, saving model to kddresults/dnn5layer/checkpoint-02.hdf5\n",
            "7720/7720 [==============================] - 37s 5ms/step - loss: 0.0036 - accuracy: 0.9990\n",
            "Epoch 3/20\n",
            "7708/7720 [============================>.] - ETA: 0s - loss: 0.0030 - accuracy: 0.9991\n",
            "Epoch 3: loss improved from 0.00363 to 0.00304, saving model to kddresults/dnn5layer/checkpoint-03.hdf5\n",
            "7720/7720 [==============================] - 36s 5ms/step - loss: 0.0030 - accuracy: 0.9991\n",
            "Epoch 4/20\n",
            "7720/7720 [==============================] - ETA: 0s - loss: 0.0032 - accuracy: 0.9991\n",
            "Epoch 4: loss did not improve from 0.00304\n",
            "7720/7720 [==============================] - 39s 5ms/step - loss: 0.0032 - accuracy: 0.9991\n",
            "Epoch 5/20\n",
            "7718/7720 [============================>.] - ETA: 0s - loss: 0.0030 - accuracy: 0.9991\n",
            "Epoch 5: loss improved from 0.00304 to 0.00296, saving model to kddresults/dnn5layer/checkpoint-05.hdf5\n",
            "7720/7720 [==============================] - 29s 4ms/step - loss: 0.0030 - accuracy: 0.9991\n",
            "Epoch 6/20\n",
            "7715/7720 [============================>.] - ETA: 0s - loss: 0.0031 - accuracy: 0.9992\n",
            "Epoch 6: loss did not improve from 0.00296\n",
            "7720/7720 [==============================] - 27s 4ms/step - loss: 0.0031 - accuracy: 0.9992\n",
            "Epoch 7/20\n",
            "7712/7720 [============================>.] - ETA: 0s - loss: 0.0028 - accuracy: 0.9991\n",
            "Epoch 7: loss improved from 0.00296 to 0.00281, saving model to kddresults/dnn5layer/checkpoint-07.hdf5\n",
            "7720/7720 [==============================] - 29s 4ms/step - loss: 0.0028 - accuracy: 0.9991\n",
            "Epoch 8/20\n",
            "7716/7720 [============================>.] - ETA: 0s - loss: 0.0029 - accuracy: 0.9991\n",
            "Epoch 8: loss did not improve from 0.00281\n",
            "7720/7720 [==============================] - 27s 4ms/step - loss: 0.0029 - accuracy: 0.9991\n",
            "Epoch 9/20\n",
            "7715/7720 [============================>.] - ETA: 0s - loss: 0.0028 - accuracy: 0.9992\n",
            "Epoch 9: loss did not improve from 0.00281\n",
            "7720/7720 [==============================] - 29s 4ms/step - loss: 0.0028 - accuracy: 0.9992\n",
            "Epoch 10/20\n",
            "7710/7720 [============================>.] - ETA: 0s - loss: 0.0029 - accuracy: 0.9991\n",
            "Epoch 10: loss did not improve from 0.00281\n",
            "7720/7720 [==============================] - 27s 4ms/step - loss: 0.0029 - accuracy: 0.9991\n",
            "Epoch 11/20\n",
            "7717/7720 [============================>.] - ETA: 0s - loss: 0.0028 - accuracy: 0.9992\n",
            "Epoch 11: loss improved from 0.00281 to 0.00276, saving model to kddresults/dnn5layer/checkpoint-11.hdf5\n",
            "7720/7720 [==============================] - 30s 4ms/step - loss: 0.0028 - accuracy: 0.9992\n",
            "Epoch 12/20\n",
            "7710/7720 [============================>.] - ETA: 0s - loss: 0.0031 - accuracy: 0.9992\n",
            "Epoch 12: loss did not improve from 0.00276\n",
            "7720/7720 [==============================] - 27s 4ms/step - loss: 0.0031 - accuracy: 0.9992\n",
            "Epoch 13/20\n",
            "7712/7720 [============================>.] - ETA: 0s - loss: 0.0025 - accuracy: 0.9992\n",
            "Epoch 13: loss improved from 0.00276 to 0.00249, saving model to kddresults/dnn5layer/checkpoint-13.hdf5\n",
            "7720/7720 [==============================] - 29s 4ms/step - loss: 0.0025 - accuracy: 0.9992\n",
            "Epoch 14/20\n",
            "7714/7720 [============================>.] - ETA: 0s - loss: 0.0027 - accuracy: 0.9992\n",
            "Epoch 14: loss did not improve from 0.00249\n",
            "7720/7720 [==============================] - 27s 4ms/step - loss: 0.0027 - accuracy: 0.9992\n",
            "Epoch 15/20\n",
            "7710/7720 [============================>.] - ETA: 0s - loss: 0.0029 - accuracy: 0.9992\n",
            "Epoch 15: loss did not improve from 0.00249\n",
            "7720/7720 [==============================] - 28s 4ms/step - loss: 0.0029 - accuracy: 0.9992\n",
            "Epoch 16/20\n",
            "7716/7720 [============================>.] - ETA: 0s - loss: 0.0023 - accuracy: 0.9993\n",
            "Epoch 16: loss improved from 0.00249 to 0.00230, saving model to kddresults/dnn5layer/checkpoint-16.hdf5\n",
            "7720/7720 [==============================] - 27s 4ms/step - loss: 0.0023 - accuracy: 0.9993\n",
            "Epoch 17/20\n",
            "7720/7720 [==============================] - ETA: 0s - loss: 0.0031 - accuracy: 0.9992\n",
            "Epoch 17: loss did not improve from 0.00230\n",
            "7720/7720 [==============================] - 29s 4ms/step - loss: 0.0031 - accuracy: 0.9992\n",
            "Epoch 18/20\n",
            "7711/7720 [============================>.] - ETA: 0s - loss: 0.0027 - accuracy: 0.9992\n",
            "Epoch 18: loss did not improve from 0.00230\n",
            "7720/7720 [==============================] - 27s 4ms/step - loss: 0.0027 - accuracy: 0.9992\n",
            "Epoch 19/20\n",
            "7706/7720 [============================>.] - ETA: 0s - loss: 0.0026 - accuracy: 0.9992\n",
            "Epoch 19: loss did not improve from 0.00230\n",
            "7720/7720 [==============================] - 28s 4ms/step - loss: 0.0026 - accuracy: 0.9992\n",
            "Epoch 20/20\n",
            "7708/7720 [============================>.] - ETA: 0s - loss: 0.0024 - accuracy: 0.9993\n",
            "Epoch 20: loss did not improve from 0.00230\n",
            "7720/7720 [==============================] - 27s 3ms/step - loss: 0.0024 - accuracy: 0.9993\n"
          ]
        }
      ],
      "source": [
        "# try using different optimizers and different optimizer configs\n",
        "model.compile(loss='binary_crossentropy',optimizer='adam',metrics=['accuracy'])\n",
        "checkpointer = callbacks.ModelCheckpoint(filepath=\"kddresults/checkpoint-{epoch:02d}.hdf5\", verbose=1, save_best_only=True, monitor='loss')\n",
        "csv_logger = CSVLogger('kddresults/training_set_dnnanalysis.csv',separator=',', append=False)\n",
        "model.fit(X_train, y_train, batch_size=batch_size, epochs=20, callbacks=[checkpointer,csv_logger])\n",
        "model.save(\"kddresults/dnn5layer_model.hdf5\")\n",
        "\n"
      ]
    },
    {
      "cell_type": "code",
      "execution_count": 11,
      "metadata": {
        "colab": {
          "base_uri": "https://localhost:8080/"
        },
        "id": "MvwgOMaZ9JYW",
        "outputId": "69fcc67f-4b48-45a5-b983-50c578f8ccf4"
      },
      "outputs": [
        {
          "name": "stdout",
          "output_type": "stream",
          "text": [
            "[[ 60236    357]\n",
            " [ 21861 228575]]\n"
          ]
        }
      ],
      "source": [
        "from sklearn.metrics import confusion_matrix\n",
        "y_train1 = y_test\n",
        "y_pred = model.predict(X_test)\n",
        "#Get the confusion matrix\n",
        "cf_matrix = confusion_matrix(y_train1 ,np.round(abs(y_pred)))\n",
        "\n",
        "print(cf_matrix)"
      ]
    },
    {
      "cell_type": "code",
      "execution_count": 12,
      "metadata": {
        "colab": {
          "base_uri": "https://localhost:8080/",
          "height": 265
        },
        "id": "Eovkvdgt9qda",
        "outputId": "0556cd1b-05c4-4d8f-a373-332811a3f96f"
      },
      "outputs": [
        {
          "data": {
            "image/png": "[encoded data removed]",
            "text/plain": [
              "<Figure size 432x288 with 2 Axes>"
            ]
          },
          "metadata": {
            "needs_background": "light"
          },
          "output_type": "display_data"
        }
      ],
      "source": [
        "import seaborn as sns\n",
        "import matplotlib.pyplot as plt\n",
        "\n",
        "group_names = ['True Neg','False Pos','False Neg','True Pos']\n",
        "group_counts = [\"{0:0.0f}\".format(value) for value in\n",
        "                cf_matrix.flatten()]\n",
        "group_percentages = [\"{0:.2%}\".format(value) for value in\n",
        "                     cf_matrix.flatten()/np.sum(cf_matrix)]\n",
        "labels = [f\"{v1}\\n{v2}\\n{v3}\" for v1, v2, v3 in\n",
        "          zip(group_names,group_counts,group_percentages)]\n",
        "labels = np.asarray(labels).reshape(2,2)\n",
        "sns.heatmap(cf_matrix, annot=labels, fmt='', cmap='Blues')\n",
        "plt.show()"
      ]
    },
    {
      "cell_type": "code",
      "execution_count": 13,
      "metadata": {
        "colab": {
          "base_uri": "https://localhost:8080/"
        },
        "id": "yqJT5OleKOXH",
        "outputId": "4867188b-2734-416f-c6e5-e5fcae0dbe6a"
      },
      "outputs": [
        {
          "name": "stdout",
          "output_type": "stream",
          "text": [
            "----------------------------------------------\n",
            "accuracy\n",
            "0.929\n",
            "recall\n",
            "0.913\n",
            "precision\n",
            "0.998\n",
            "f1score\n",
            "0.954\n"
          ]
        }
      ],
      "source": [
        "score = []\n",
        "name = []\n",
        "from sklearn.metrics import confusion_matrix\n",
        "from sklearn.metrics import recall_score\n",
        "\n",
        "import os\n",
        "\n",
        "model.load_weights(\"kddresults/dnn5layer_model.hdf5\")\n",
        "y_train1 = y_test\n",
        "y_pred = model.predict(X_test)\n",
        "accuracy = accuracy_score(y_train1,  np.round(abs(y_pred)))\n",
        "recall = recall_score(y_train1, np.round(abs(y_pred)) , average=\"binary\")\n",
        "precision = precision_score(y_train1,np.round(abs(y_pred)) , average=\"binary\")\n",
        "f1 = f1_score(y_train1, np.round(abs(y_pred)) , average=\"binary\")\n",
        "print(\"accuracy\")\n",
        "print(\"%.3f\" %accuracy)\n",
        "print(\"recall\")\n",
        "print(\"%.3f\" %recall)\n",
        "print(\"precision\")\n",
        "print(\"%.3f\" %precision)\n",
        "print(\"f1score\")\n",
        "print(\"%.3f\" %f1)\n",
        "\n",
        "\n",
        "\n",
        "\n",
        "\n",
        "\n",
        "\n",
        "\n"
      ]
    },
    {
      "cell_type": "code",
      "execution_count": null,
      "metadata": {
        "id": "OAijlAkG5EYc"
      },
      "outputs": [],
      "source": []
    }
  ],
  "metadata": {
    "accelerator": "GPU",
    "colab": {
      "collapsed_sections": [],
      "name": "Untitled25.ipynb",
      "provenance": []
    },
    "kernelspec": {
      "display_name": "Python 3",
      "name": "python3"
    },
    "language_info": {
      "name": "python"
    }
  },
  "nbformat": 4,
  "nbformat_minor": 0
}
